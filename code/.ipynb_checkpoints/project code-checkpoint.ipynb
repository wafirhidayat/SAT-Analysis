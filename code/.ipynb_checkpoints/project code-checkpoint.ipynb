{
 "cells": [
  {
   "cell_type": "markdown",
   "id": "0ea28e04-b2bb-4dd6-a913-4b63053fd9f8",
   "metadata": {},
   "source": [
    "# Project 1: SAT & ACT Analysis"
   ]
  },
  {
   "cell_type": "markdown",
   "id": "99df402b-af12-48c5-ad8f-bc28d5926220",
   "metadata": {},
   "source": [
    "## Project Statement\n",
    "\n",
    "This project aims to examine trends in the participation rates of SAT from 2018 to 2021 and whether COVID-19 had a significant impact on the participation rates in the peri-COVID-19 time (2020 to 2021)."
   ]
  },
  {
   "cell_type": "markdown",
   "id": "2bdcae59-54d1-4a37-ace7-6a1fda186f80",
   "metadata": {},
   "source": [
    "## Executive Summary\n",
    "\n",
    "For many years, standardised test scores have been used as a benchmark for college admissions in the USA, where high school students are required to partake in a 3-hour examination based on various knowledge. However, due to the emergence of COVID-19 in [early 2020](https://pubmed.ncbi.nlm.nih.gov/32191675/), several [restrictions](https://blogs.worldbank.org/education/high-stakes-school-exams-during-covid-19-coronavirus-what-best-approach), such as postponment of examination dates, were imposed to restrict the spread of the virus which impacted the participation rates of these standardised test. \n",
    "\n",
    "### Contents:\n",
    "- [Data Import & Cleaning](#Data-Import-and-Cleaning)\n",
    "- [Data Dictionary](#Data-Dictionary)\n",
    "- [Exploratory Data Analysis](#Exploratory-Data-Analysis)\n",
    "- [Data Visualization](#Data-Visualization)\n",
    "- [Other Factors](#Other-Factor(s)-That-Could-Affect-Participation-Rate)\n",
    "- [Conclusion and Recommendations](#Conclusion-and-Recommendations)"
   ]
  },
  {
   "cell_type": "markdown",
   "id": "9307fc04-faac-45c4-8b9a-5f4e4dea0fca",
   "metadata": {},
   "source": [
    "## Libraries"
   ]
  },
  {
   "cell_type": "code",
   "execution_count": null,
   "id": "4037f9dd-30e9-448f-bcd5-58fce022d74a",
   "metadata": {},
   "outputs": [],
   "source": [
    "import numpy as np\n",
    "import pandas as pd\n",
    "import scipy.stats as stats\n",
    "import seaborn as sns\n",
    "import matplotlib.pyplot as plt\n",
    "import plotly.express as px\n",
    "from sklearn.linear_model import LinearRegression\n",
    "from sklearn import metrics "
   ]
  },
  {
   "cell_type": "markdown",
   "id": "91993639-dde4-4d3b-babf-94e962dbb0dd",
   "metadata": {},
   "source": [
    "## Data Import and Cleaning"
   ]
  },
  {
   "cell_type": "markdown",
   "id": "11cc6baf-6093-48c0-818d-c293b8aeed49",
   "metadata": {},
   "source": [
    "#### 1) Clean 2018 to 2020 SAT Scores by State"
   ]
  },
  {
   "cell_type": "code",
   "execution_count": 7,
   "id": "8a019a23-c06b-43c1-bb51-5f05d38258ee",
   "metadata": {},
   "outputs": [
    {
     "ename": "NameError",
     "evalue": "name 'pd' is not defined",
     "output_type": "error",
     "traceback": [
      "\u001b[0;31m---------------------------------------------------------------------------\u001b[0m",
      "\u001b[0;31mNameError\u001b[0m                                 Traceback (most recent call last)",
      "Input \u001b[0;32mIn [7]\u001b[0m, in \u001b[0;36m<cell line: 1>\u001b[0;34m()\u001b[0m\n\u001b[0;32m----> 1\u001b[0m sat_2018 \u001b[38;5;241m=\u001b[39m \u001b[43mpd\u001b[49m\u001b[38;5;241m.\u001b[39mread_csv(\u001b[38;5;124m'\u001b[39m\u001b[38;5;124m../data/sat_2018.csv\u001b[39m\u001b[38;5;124m'\u001b[39m)\n\u001b[1;32m      2\u001b[0m sat_2019 \u001b[38;5;241m=\u001b[39m pd\u001b[38;5;241m.\u001b[39mread_csv(\u001b[38;5;124m'\u001b[39m\u001b[38;5;124m../data/sat_2019.csv\u001b[39m\u001b[38;5;124m'\u001b[39m)\n\u001b[1;32m      3\u001b[0m sat_2020 \u001b[38;5;241m=\u001b[39m pd\u001b[38;5;241m.\u001b[39mread_csv(\u001b[38;5;124m'\u001b[39m\u001b[38;5;124m../data/sat_state_2020.csv\u001b[39m\u001b[38;5;124m'\u001b[39m)\n",
      "\u001b[0;31mNameError\u001b[0m: name 'pd' is not defined"
     ]
    }
   ],
   "source": [
    "sat_2018 = pd.read_csv('../data/sat_2018.csv')\n",
    "sat_2019 = pd.read_csv('../data/sat_2019.csv')\n",
    "sat_2020 = pd.read_csv('../data/sat_state_2020.csv')\n",
    "sat_2021 = pd.read_csv('../data/sat_state_2021.csv')"
   ]
  },
  {
   "cell_type": "code",
   "execution_count": null,
   "id": "fcad41a9-404e-482a-a511-f74829458758",
   "metadata": {},
   "outputs": [],
   "source": [
    "#checking data\n",
    "print(sat_2018.info())\n",
    "print(sat_2019.info())"
   ]
  },
  {
   "cell_type": "code",
   "execution_count": null,
   "id": "526f6b3b-ba65-4405-8a0c-71778c0d44e4",
   "metadata": {},
   "outputs": [],
   "source": [
    "print(sat_2020.info())\n",
    "print(sat_2021.info())"
   ]
  },
  {
   "cell_type": "code",
   "execution_count": null,
   "id": "545dc320-c7cf-4fd8-957a-881b4aad72bd",
   "metadata": {},
   "outputs": [],
   "source": [
    "sat_2021.head(2)"
   ]
  },
  {
   "cell_type": "code",
   "execution_count": null,
   "id": "b376b75e-ae26-4d02-b425-5aa3614610b8",
   "metadata": {},
   "outputs": [],
   "source": [
    "#finding extra data since 2019,2020 and 2021 has more tha 51 values (there are 51 states in US)\n",
    "def find_missing_state(list):\n",
    "    missing = []\n",
    "    for s in list:\n",
    "        if s not in state2018_list:\n",
    "            missing.append(s)\n",
    "    return missing\n",
    "\n",
    "state2019_list= sat_2019['State'].values.tolist()\n",
    "state2018_list= sat_2018['State'].values.tolist()\n",
    "state2020_list= sat_2020['State'].values.tolist()\n",
    "state2021_list= sat_2021['State'].values.tolist()\n",
    "\n",
    "print(find_missing_state(state2019_list))\n",
    "print(find_missing_state(state2020_list))\n",
    "print(find_missing_state(state2021_list))"
   ]
  },
  {
   "cell_type": "code",
   "execution_count": 2,
   "id": "73bf7c5e-285c-4e6d-92f3-8bea2491bf93",
   "metadata": {},
   "outputs": [
    {
     "ename": "NameError",
     "evalue": "name 'sat_2019' is not defined",
     "output_type": "error",
     "traceback": [
      "\u001b[0;31m---------------------------------------------------------------------------\u001b[0m",
      "\u001b[0;31mNameError\u001b[0m                                 Traceback (most recent call last)",
      "Input \u001b[0;32mIn [2]\u001b[0m, in \u001b[0;36m<cell line: 2>\u001b[0;34m()\u001b[0m\n\u001b[1;32m      1\u001b[0m \u001b[38;5;66;03m#removing extra states\u001b[39;00m\n\u001b[0;32m----> 2\u001b[0m \u001b[43msat_2019\u001b[49m\u001b[38;5;241m.\u001b[39mdrop(sat_2019[sat_2019[\u001b[38;5;124m\"\u001b[39m\u001b[38;5;124mState\u001b[39m\u001b[38;5;124m\"\u001b[39m] \u001b[38;5;241m==\u001b[39m \u001b[38;5;124m'\u001b[39m\u001b[38;5;124mPuerto Rico\u001b[39m\u001b[38;5;124m'\u001b[39m]\u001b[38;5;241m.\u001b[39mindex, axis \u001b[38;5;241m=\u001b[39m \u001b[38;5;241m0\u001b[39m, inplace \u001b[38;5;241m=\u001b[39m \u001b[38;5;28;01mTrue\u001b[39;00m)\n\u001b[1;32m      3\u001b[0m sat_2019\u001b[38;5;241m.\u001b[39mdrop(sat_2019[sat_2019[\u001b[38;5;124m\"\u001b[39m\u001b[38;5;124mState\u001b[39m\u001b[38;5;124m\"\u001b[39m] \u001b[38;5;241m==\u001b[39m \u001b[38;5;124m'\u001b[39m\u001b[38;5;124mVirgin Islands\u001b[39m\u001b[38;5;124m'\u001b[39m]\u001b[38;5;241m.\u001b[39mindex, axis \u001b[38;5;241m=\u001b[39m \u001b[38;5;241m0\u001b[39m, inplace \u001b[38;5;241m=\u001b[39m \u001b[38;5;28;01mTrue\u001b[39;00m)\n\u001b[1;32m      5\u001b[0m sat_2020\u001b[38;5;241m.\u001b[39mdrop(sat_2020[sat_2020[\u001b[38;5;124m\"\u001b[39m\u001b[38;5;124mState\u001b[39m\u001b[38;5;124m\"\u001b[39m] \u001b[38;5;241m==\u001b[39m \u001b[38;5;124m'\u001b[39m\u001b[38;5;124mPuerto Rico\u001b[39m\u001b[38;5;124m'\u001b[39m]\u001b[38;5;241m.\u001b[39mindex, axis \u001b[38;5;241m=\u001b[39m \u001b[38;5;241m0\u001b[39m, inplace \u001b[38;5;241m=\u001b[39m \u001b[38;5;28;01mTrue\u001b[39;00m)\n",
      "\u001b[0;31mNameError\u001b[0m: name 'sat_2019' is not defined"
     ]
    }
   ],
   "source": [
    "#removing extra states\n",
    "sat_2019.drop(sat_2019[sat_2019[\"State\"] == 'Puerto Rico'].index, axis = 0, inplace = True)\n",
    "sat_2019.drop(sat_2019[sat_2019[\"State\"] == 'Virgin Islands'].index, axis = 0, inplace = True)\n",
    "\n",
    "sat_2020.drop(sat_2020[sat_2020[\"State\"] == 'Puerto Rico'].index, axis = 0, inplace = True)\n",
    "sat_2021.drop(sat_2021[sat_2021[\"State\"] == 'Puerto Rico'].index, axis = 0, inplace = True)\n",
    "\n",
    "sat_2020.drop(sat_2020[sat_2020[\"State\"] == 'Virgin Islands'].index, axis = 0, inplace = True)\n",
    "sat_2021.drop(sat_2021[sat_2021[\"State\"] == 'Virgin Islands'].index, axis = 0, inplace = True)\n",
    "sat_2021.drop(sat_2021[sat_2021[\"State\"] == 'US'].index, axis = 0, inplace = True)\n",
    "\n",
    "#removing unnecessary columns and NaN values\n",
    "sat_2021 = sat_2021.loc[:, :'Total']\n",
    "sat_2021 = sat_2021.dropna()\n",
    "\n",
    "#changing 'Participation' from object to float\n",
    "sat_2018['Participation'] = sat_2018['Participation'].str.rstrip('%').astype('float') / 100.0\n",
    "sat_2019['Participation Rate'] = sat_2019['Participation Rate'].str.rstrip('%').astype('float') / 100.0\n",
    "sat_2020['Participation Rate'] = sat_2020['Participation Rate'].str.rstrip('%').astype('float') / 100.0\n",
    "sat_2021['Participation Rate'] = sat_2021['Participation Rate'].str.rstrip('%').astype('float') / 100.0\n",
    "\n",
    "#matching the columns in both dataset\n",
    "sat_2018=sat_2018.rename(columns={'State':'state_name', \n",
    "                         'Participation':'2018_participation',\n",
    "                         'Evidence-Based Reading and Writing':'2018_ebrw',\n",
    "                        'Math':'2018_math',\n",
    "                        'Total':'2018_total_score'})\n",
    "\n",
    "sat_2019=sat_2019.rename(columns={'State':'state_name', \n",
    "                         'Participation Rate':'2019_participation',\n",
    "                         'EBRW':'2019_ebrw',\n",
    "                        'Math':'2019_math',\n",
    "                        'Total':'2019_total_score'})\n",
    "\n",
    "sat_2020=sat_2020.rename(columns={'State':'state_name', \n",
    "                         'Participation Rate':'2020_participation',\n",
    "                         'EBRW':'2020_ebrw',\n",
    "                        'Math':'2020_math',\n",
    "                        'Total':'2020_total_score'})\n",
    "\n",
    "sat_2021=sat_2021.rename(columns={'State':'state_name', \n",
    "                         'Participation Rate':'2021_participation',\n",
    "                         'EBRW':'2021_ebrw',\n",
    "                        'Math':'2021_math',\n",
    "                        'Total':'2021_total_score'})\n",
    "\n",
    "#combining sat datasets\n",
    "from functools import reduce\n",
    "\n",
    "df_list = [sat_2018, sat_2019, sat_2020, sat_2021]\n",
    "\n",
    "sat_df=reduce(lambda  left,right: pd.merge(left,right,on=['state_name'],\n",
    "                                            how='outer'), df_list)"
   ]
  },
  {
   "cell_type": "code",
   "execution_count": 3,
   "id": "0d3a6f2a-3d75-46fa-b695-d03fbb7e3b57",
   "metadata": {},
   "outputs": [
    {
     "ename": "NameError",
     "evalue": "name 'sat_df' is not defined",
     "output_type": "error",
     "traceback": [
      "\u001b[0;31m---------------------------------------------------------------------------\u001b[0m",
      "\u001b[0;31mNameError\u001b[0m                                 Traceback (most recent call last)",
      "Input \u001b[0;32mIn [3]\u001b[0m, in \u001b[0;36m<cell line: 2>\u001b[0;34m()\u001b[0m\n\u001b[1;32m      1\u001b[0m \u001b[38;5;66;03m#checking\u001b[39;00m\n\u001b[0;32m----> 2\u001b[0m \u001b[38;5;28mprint\u001b[39m(\u001b[43msat_df\u001b[49m\u001b[38;5;241m.\u001b[39minfo())\n\u001b[1;32m      3\u001b[0m sat_df\u001b[38;5;241m.\u001b[39mhead()\n",
      "\u001b[0;31mNameError\u001b[0m: name 'sat_df' is not defined"
     ]
    }
   ],
   "source": [
    "#checking\n",
    "print(sat_df.info())\n",
    "sat_df.head()"
   ]
  },
  {
   "cell_type": "code",
   "execution_count": 4,
   "id": "5354cb00-64b0-439f-9021-d4c3b6d49078",
   "metadata": {
    "scrolled": true,
    "tags": []
   },
   "outputs": [
    {
     "ename": "NameError",
     "evalue": "name 'sat_df' is not defined",
     "output_type": "error",
     "traceback": [
      "\u001b[0;31m---------------------------------------------------------------------------\u001b[0m",
      "\u001b[0;31mNameError\u001b[0m                                 Traceback (most recent call last)",
      "Input \u001b[0;32mIn [4]\u001b[0m, in \u001b[0;36m<cell line: 2>\u001b[0;34m()\u001b[0m\n\u001b[1;32m      1\u001b[0m \u001b[38;5;66;03m#changing 2021 ebrw, math and total data into int\u001b[39;00m\n\u001b[0;32m----> 2\u001b[0m sat_df\u001b[38;5;241m=\u001b[39m\u001b[43msat_df\u001b[49m\u001b[38;5;241m.\u001b[39mastype({\u001b[38;5;124m\"\u001b[39m\u001b[38;5;124m2021_ebrw\u001b[39m\u001b[38;5;124m\"\u001b[39m:\u001b[38;5;124m\"\u001b[39m\u001b[38;5;124mint\u001b[39m\u001b[38;5;124m\"\u001b[39m,\u001b[38;5;124m\"\u001b[39m\u001b[38;5;124m2021_ebrw\u001b[39m\u001b[38;5;124m\"\u001b[39m:\u001b[38;5;124m\"\u001b[39m\u001b[38;5;124mint\u001b[39m\u001b[38;5;124m\"\u001b[39m, \u001b[38;5;124m\"\u001b[39m\u001b[38;5;124m2021_math\u001b[39m\u001b[38;5;124m\"\u001b[39m:\u001b[38;5;124m\"\u001b[39m\u001b[38;5;124mint\u001b[39m\u001b[38;5;124m\"\u001b[39m, \u001b[38;5;124m\"\u001b[39m\u001b[38;5;124m2021_total_score\u001b[39m\u001b[38;5;124m\"\u001b[39m:\u001b[38;5;124m\"\u001b[39m\u001b[38;5;124mint\u001b[39m\u001b[38;5;124m\"\u001b[39m})\n",
      "\u001b[0;31mNameError\u001b[0m: name 'sat_df' is not defined"
     ]
    }
   ],
   "source": [
    "#changing 2021 ebrw, math and total data into int\n",
    "sat_df=sat_df.astype({\"2021_ebrw\":\"int\",\"2021_ebrw\":\"int\", \"2021_math\":\"int\", \"2021_total_score\":\"int\"})"
   ]
  },
  {
   "cell_type": "code",
   "execution_count": 5,
   "id": "9ba23754-2688-4350-88c6-241cbc77b205",
   "metadata": {},
   "outputs": [
    {
     "ename": "NameError",
     "evalue": "name 'sat_df' is not defined",
     "output_type": "error",
     "traceback": [
      "\u001b[0;31m---------------------------------------------------------------------------\u001b[0m",
      "\u001b[0;31mNameError\u001b[0m                                 Traceback (most recent call last)",
      "Input \u001b[0;32mIn [5]\u001b[0m, in \u001b[0;36m<cell line: 56>\u001b[0;34m()\u001b[0m\n\u001b[1;32m      1\u001b[0m \u001b[38;5;66;03m#adding new column to match US State abbrev\u001b[39;00m\n\u001b[1;32m      2\u001b[0m us_abbrv\u001b[38;5;241m=\u001b[39m {\n\u001b[1;32m      3\u001b[0m     \u001b[38;5;124m\"\u001b[39m\u001b[38;5;124mAlabama\u001b[39m\u001b[38;5;124m\"\u001b[39m: \u001b[38;5;124m\"\u001b[39m\u001b[38;5;124mAL\u001b[39m\u001b[38;5;124m\"\u001b[39m,\n\u001b[1;32m      4\u001b[0m     \u001b[38;5;124m\"\u001b[39m\u001b[38;5;124mAlaska\u001b[39m\u001b[38;5;124m\"\u001b[39m: \u001b[38;5;124m\"\u001b[39m\u001b[38;5;124mAK\u001b[39m\u001b[38;5;124m\"\u001b[39m,\n\u001b[0;32m   (...)\u001b[0m\n\u001b[1;32m     53\u001b[0m     \u001b[38;5;124m\"\u001b[39m\u001b[38;5;124mWyoming\u001b[39m\u001b[38;5;124m\"\u001b[39m: \u001b[38;5;124m\"\u001b[39m\u001b[38;5;124mWY\u001b[39m\u001b[38;5;124m\"\u001b[39m,\n\u001b[1;32m     54\u001b[0m }\n\u001b[0;32m---> 56\u001b[0m sat_df[\u001b[38;5;124m'\u001b[39m\u001b[38;5;124mstate\u001b[39m\u001b[38;5;124m'\u001b[39m]\u001b[38;5;241m=\u001b[39m\u001b[43msat_df\u001b[49m[\u001b[38;5;124m'\u001b[39m\u001b[38;5;124mstate_name\u001b[39m\u001b[38;5;124m'\u001b[39m]\u001b[38;5;241m.\u001b[39mmap(us_abbrv)\n\u001b[1;32m     58\u001b[0m sat_df \u001b[38;5;241m=\u001b[39m sat_df[[\u001b[38;5;124m'\u001b[39m\u001b[38;5;124mstate_name\u001b[39m\u001b[38;5;124m'\u001b[39m,\u001b[38;5;124m'\u001b[39m\u001b[38;5;124mstate\u001b[39m\u001b[38;5;124m'\u001b[39m,\u001b[38;5;124m'\u001b[39m\u001b[38;5;124m2018_participation\u001b[39m\u001b[38;5;124m'\u001b[39m,\u001b[38;5;124m'\u001b[39m\u001b[38;5;124m2018_ebrw\u001b[39m\u001b[38;5;124m'\u001b[39m,\u001b[38;5;124m'\u001b[39m\u001b[38;5;124m2018_math\u001b[39m\u001b[38;5;124m'\u001b[39m,\u001b[38;5;124m'\u001b[39m\u001b[38;5;124m2018_total_score\u001b[39m\u001b[38;5;124m'\u001b[39m,\u001b[38;5;124m'\u001b[39m\u001b[38;5;124m2019_participation\u001b[39m\u001b[38;5;124m'\u001b[39m,\u001b[38;5;124m'\u001b[39m\u001b[38;5;124m2019_ebrw\u001b[39m\u001b[38;5;124m'\u001b[39m,\u001b[38;5;124m'\u001b[39m\u001b[38;5;124m2019_math\u001b[39m\u001b[38;5;124m'\u001b[39m,\u001b[38;5;124m'\u001b[39m\u001b[38;5;124m2019_total_score\u001b[39m\u001b[38;5;124m'\u001b[39m,\u001b[38;5;124m'\u001b[39m\u001b[38;5;124m2020_participation\u001b[39m\u001b[38;5;124m'\u001b[39m,\u001b[38;5;124m'\u001b[39m\u001b[38;5;124m2020_ebrw\u001b[39m\u001b[38;5;124m'\u001b[39m,\u001b[38;5;124m'\u001b[39m\u001b[38;5;124m2020_math\u001b[39m\u001b[38;5;124m'\u001b[39m,\u001b[38;5;124m'\u001b[39m\u001b[38;5;124m2020_total_score\u001b[39m\u001b[38;5;124m'\u001b[39m,\u001b[38;5;124m'\u001b[39m\u001b[38;5;124m2021_participation\u001b[39m\u001b[38;5;124m'\u001b[39m,\u001b[38;5;124m'\u001b[39m\u001b[38;5;124m2021_ebrw\u001b[39m\u001b[38;5;124m'\u001b[39m,\u001b[38;5;124m'\u001b[39m\u001b[38;5;124m2021_math\u001b[39m\u001b[38;5;124m'\u001b[39m,\u001b[38;5;124m'\u001b[39m\u001b[38;5;124m2021_total_score\u001b[39m\u001b[38;5;124m'\u001b[39m]]\n\u001b[1;32m     59\u001b[0m sat_df\u001b[38;5;241m.\u001b[39msort_values(by\u001b[38;5;241m=\u001b[39m[\u001b[38;5;124m'\u001b[39m\u001b[38;5;124mstate\u001b[39m\u001b[38;5;124m'\u001b[39m], axis\u001b[38;5;241m=\u001b[39m\u001b[38;5;241m0\u001b[39m, ascending\u001b[38;5;241m=\u001b[39m\u001b[38;5;28;01mTrue\u001b[39;00m, inplace\u001b[38;5;241m=\u001b[39m\u001b[38;5;28;01mTrue\u001b[39;00m, ignore_index\u001b[38;5;241m=\u001b[39m\u001b[38;5;28;01mTrue\u001b[39;00m)\n",
      "\u001b[0;31mNameError\u001b[0m: name 'sat_df' is not defined"
     ]
    }
   ],
   "source": [
    "#adding new column to match US State abbrev\n",
    "us_abbrv= {\n",
    "    \"Alabama\": \"AL\",\n",
    "    \"Alaska\": \"AK\",\n",
    "    \"Arizona\": \"AZ\",\n",
    "    \"Arkansas\": \"AR\",\n",
    "    \"California\": \"CA\",\n",
    "    \"Colorado\": \"CO\",\n",
    "    \"Connecticut\": \"CT\",\n",
    "    \"Delaware\": \"DE\",\n",
    "    \"District of Columbia\": \"DC\",\n",
    "    \"Florida\": \"FL\",\n",
    "    \"Georgia\": \"GA\",\n",
    "    \"Hawaii\": \"HI\",\n",
    "    \"Idaho\": \"ID\",\n",
    "    \"Illinois\": \"IL\",\n",
    "    \"Indiana\": \"IN\",\n",
    "    \"Iowa\": \"IA\",\n",
    "    \"Kansas\": \"KS\",\n",
    "    \"Kentucky\": \"KY\",\n",
    "    \"Louisiana\": \"LA\",\n",
    "    \"Maine\": \"ME\",\n",
    "    \"Maryland\": \"MD\",\n",
    "    \"Massachusetts\": \"MA\",\n",
    "    \"Michigan\": \"MI\",\n",
    "    \"Minnesota\": \"MN\",\n",
    "    \"Mississippi\": \"MS\",\n",
    "    \"Missouri\": \"MO\",\n",
    "    \"Montana\": \"MT\",\n",
    "    \"Nebraska\": \"NE\",\n",
    "    \"Nevada\": \"NV\",\n",
    "    \"New Hampshire\": \"NH\",\n",
    "    \"New Jersey\": \"NJ\",\n",
    "    \"New Mexico\": \"NM\",\n",
    "    \"New York\": \"NY\",\n",
    "    \"North Carolina\": \"NC\",\n",
    "    \"North Dakota\": \"ND\",\n",
    "    \"Ohio\": \"OH\",\n",
    "    \"Oklahoma\": \"OK\",\n",
    "    \"Oregon\": \"OR\",\n",
    "    \"Pennsylvania\": \"PA\",\n",
    "    \"Rhode Island\": \"RI\",\n",
    "    \"South Carolina\": \"SC\",\n",
    "    \"South Dakota\": \"SD\",\n",
    "    \"Tennessee\": \"TN\",\n",
    "    \"Texas\": \"TX\",\n",
    "    \"Utah\": \"UT\",\n",
    "    \"Vermont\": \"VT\",\n",
    "    \"Virginia\": \"VA\",\n",
    "    \"Washington\": \"WA\",\n",
    "    \"West Virginia\": \"WV\",\n",
    "    \"Wisconsin\": \"WI\",\n",
    "    \"Wyoming\": \"WY\",\n",
    "}\n",
    "\n",
    "sat_df['state']=sat_df['state_name'].map(us_abbrv)\n",
    "\n",
    "sat_df = sat_df[['state_name','state','2018_participation','2018_ebrw','2018_math','2018_total_score','2019_participation','2019_ebrw','2019_math','2019_total_score','2020_participation','2020_ebrw','2020_math','2020_total_score','2021_participation','2021_ebrw','2021_math','2021_total_score']]\n",
    "sat_df.sort_values(by=['state'], axis=0, ascending=True, inplace=True, ignore_index=True)"
   ]
  },
  {
   "cell_type": "markdown",
   "id": "389585c2-0641-4ab1-8f0d-4fcd1818e003",
   "metadata": {},
   "source": [
    "#### 2) Clean COVID-19 Cases in US by State Data"
   ]
  },
  {
   "cell_type": "code",
   "execution_count": 6,
   "id": "ebde300b-434a-4185-b497-f9365b77fab8",
   "metadata": {},
   "outputs": [
    {
     "ename": "NameError",
     "evalue": "name 'pd' is not defined",
     "output_type": "error",
     "traceback": [
      "\u001b[0;31m---------------------------------------------------------------------------\u001b[0m",
      "\u001b[0;31mNameError\u001b[0m                                 Traceback (most recent call last)",
      "Input \u001b[0;32mIn [6]\u001b[0m, in \u001b[0;36m<cell line: 1>\u001b[0;34m()\u001b[0m\n\u001b[0;32m----> 1\u001b[0m covid_cases \u001b[38;5;241m=\u001b[39m \u001b[43mpd\u001b[49m\u001b[38;5;241m.\u001b[39mread_csv(\u001b[38;5;124m'\u001b[39m\u001b[38;5;124m../data/United_States_COVID-19_Cases_and_Deaths_by_State_over_Time.csv\u001b[39m\u001b[38;5;124m'\u001b[39m)\n",
      "\u001b[0;31mNameError\u001b[0m: name 'pd' is not defined"
     ]
    }
   ],
   "source": [
    "covid_cases = pd.read_csv('../data/United_States_COVID-19_Cases_and_Deaths_by_State_over_Time.csv')"
   ]
  },
  {
   "cell_type": "code",
   "execution_count": null,
   "id": "7744b829-9044-425e-b218-5e2df06dcfe0",
   "metadata": {},
   "outputs": [],
   "source": [
    "#checking data\n",
    "print(covid_cases.info())\n",
    "covid_cases.head()"
   ]
  },
  {
   "cell_type": "code",
   "execution_count": null,
   "id": "bbbbce2b-bff5-440f-ade1-dc1de1a8620d",
   "metadata": {},
   "outputs": [],
   "source": [
    "#changing date format \n",
    "covid_cases['submission_date']=pd.to_datetime(covid_cases['submission_date'])"
   ]
  },
  {
   "cell_type": "code",
   "execution_count": null,
   "id": "68f36b94-2b0e-4a4d-84e6-bc1d72935ef9",
   "metadata": {},
   "outputs": [],
   "source": [
    "#Getting 2020 to 2021 covid cases\n",
    "target_covid_cases = covid_cases[(covid_cases['submission_date'] > \"2020-01-01\") & (covid_cases['submission_date'] < \"2022-01-01\")]\n",
    "\n",
    "target_covid_cases.sort_values(['state', 'submission_date'],\n",
    "              ascending = [True, True],inplace=True)\n",
    "\n",
    "target_covid_cases=target_covid_cases.reset_index(drop=True) \n",
    "target_covid_cases['tot_cases']=target_covid_cases['tot_cases'].str.replace(',', '').astype('int')"
   ]
  },
  {
   "cell_type": "code",
   "execution_count": null,
   "id": "25101eee-0133-4aa1-b900-cc34ddd72e76",
   "metadata": {},
   "outputs": [],
   "source": [
    "#checking\n",
    "target_covid_cases.info()"
   ]
  },
  {
   "cell_type": "code",
   "execution_count": null,
   "id": "257cb1c7-2a8c-445e-909e-77960df0edef",
   "metadata": {},
   "outputs": [],
   "source": [
    "#splitting covid data into 2020 and 2021 as the cases are the sum of reported cases upon submission \n",
    "total_cases_2020 = target_covid_cases.loc[target_covid_cases['submission_date'] == '2020-12-31']\n",
    "print(total_cases_2020.shape)\n",
    "\n",
    "total_cases_2021=target_covid_cases.loc[target_covid_cases['submission_date'] == '2021-12-31']\n",
    "print(total_cases_2021.shape)"
   ]
  },
  {
   "cell_type": "code",
   "execution_count": null,
   "id": "338279e1-35d5-4440-9caa-2a86cf74c97b",
   "metadata": {},
   "outputs": [],
   "source": [
    "#There are 60 states in the total-cases dataframe. Identifying the states not in the 51 state list under study\n",
    "def check_excess_state(df):\n",
    "    excess=[]\n",
    "    for abv in df['state'].values.tolist():\n",
    "        if abv not in sat_df['state'].values.tolist():\n",
    "            excess.append(abv)\n",
    "    return excess\n",
    "\n",
    "excess_2020 = check_excess_state(total_cases_2020)\n",
    "excess_2021 = check_excess_state(total_cases_2021)\n",
    "\n",
    "#Consolidating dataframe to include only the 51 US state\n",
    "total_cases_2020=total_cases_2020[~total_cases_2020['state'].isin(excess_2020)]\n",
    "total_cases_2020=total_cases_2020.reset_index(drop=True) \n",
    "total_cases_2020=total_cases_2020[['submission_date','state','tot_cases']]\n",
    "print(total_cases_2020.shape)\n",
    "\n",
    "total_cases_2021=total_cases_2021[~total_cases_2021['state'].isin(excess_2021)]\n",
    "total_cases_2021=total_cases_2021.reset_index(drop=True)\n",
    "total_cases_2021=total_cases_2021[['submission_date','state','tot_cases']]\n",
    "print(total_cases_2021.shape)"
   ]
  },
  {
   "cell_type": "code",
   "execution_count": null,
   "id": "fd5bdff7-1fe5-4a7c-8b9a-f426f8d9e3d8",
   "metadata": {},
   "outputs": [],
   "source": [
    "#Combining the COVID-19 dataframe into one\n",
    "total_cases_2020.rename({'submission_date':'2020_submission_date','tot_cases':'2020_tot_cases'},axis=1,inplace=True)\n",
    "total_cases_2021.rename({'submission_date':'2021_submission_date','tot_cases':'2021_tot_cases'},axis=1,inplace=True)\n",
    "\n",
    "total_cases=pd.merge(total_cases_2020, total_cases_2021, on=\"state\", how='left')\n",
    "total_cases=total_cases[['state','2020_tot_cases','2021_tot_cases']]\n",
    "total_cases['2021_tot_cases']= total_cases['2021_tot_cases'] - total_cases['2020_tot_cases']\n",
    "\n",
    "new_column = sat_df[['state_name']]\n",
    "total_cases=pd.concat([new_column , total_cases], axis=1)"
   ]
  },
  {
   "cell_type": "markdown",
   "id": "09b47d76-0278-4aa8-9c30-4753b9d6f7e0",
   "metadata": {},
   "source": [
    "#### 3) Clean US School Admission Data"
   ]
  },
  {
   "cell_type": "code",
   "execution_count": null,
   "id": "b98e7e25-5de8-49d7-9de1-80135c980a86",
   "metadata": {},
   "outputs": [],
   "source": [
    "test_req_df = pd.read_csv('../data/sat_act_by_college.csv')"
   ]
  },
  {
   "cell_type": "code",
   "execution_count": null,
   "id": "72c8e2dc-ec9d-470a-94dd-a3b3a6c91931",
   "metadata": {},
   "outputs": [],
   "source": [
    "test_req_df.info()"
   ]
  },
  {
   "cell_type": "code",
   "execution_count": null,
   "id": "4535d1df-5f1c-489a-94bf-a9d38222b6c9",
   "metadata": {},
   "outputs": [],
   "source": [
    "#checking variables\n",
    "print(test_req_df['Test Optional?'].unique())\n",
    "print(test_req_df['Applies to Class Year(s)'].unique())"
   ]
  },
  {
   "cell_type": "code",
   "execution_count": null,
   "id": "76df5962-ef96-41e4-be04-ce5db1bd98a2",
   "metadata": {},
   "outputs": [],
   "source": [
    "#changing to boolean values for easier identification of schools that made test optional\n",
    "test_req_df = test_req_df.replace({'Test Optional?': {'Yes': 1, 'Yes (TB)': 1, 'Yes*':1, 'Yes (TF)':1,\n",
    "                                'No': 0}})\n",
    "\n",
    "#changing 'Accept Rate' to float type\n",
    "test_req_df['Accept Rate']=test_req_df['Accept Rate'].str.rstrip('%').astype('float') / 100.0\n",
    "\n",
    "#dropping potentially unused column\n",
    "test_req_df.drop(columns= 'ACT Total 25th-75th Percentile', inplace = True)"
   ]
  },
  {
   "cell_type": "code",
   "execution_count": null,
   "id": "c33e607f-3b61-4d58-802d-287b81e08d27",
   "metadata": {},
   "outputs": [],
   "source": [
    "test_req_df.head()"
   ]
  },
  {
   "cell_type": "code",
   "execution_count": null,
   "id": "00abc8c2-aa71-4b89-b6b5-bad6448acc52",
   "metadata": {},
   "outputs": [],
   "source": [
    "#since Nan values refer to those schools that have made test requirement as compulsory, changing Nan values to match\n",
    "test_req_df.fillna('compulsory', inplace=True)\n",
    "\n",
    "#create new column to specifically study 2021 test requirement \n",
    "test_req_df['optional_2021']=['yes' if '2021' in year else 'permanent' if 'All / Permanent Policy' in year else 'nil' for year in test_req_df['Applies to Class Year(s)']]"
   ]
  },
  {
   "cell_type": "code",
   "execution_count": null,
   "id": "93e8f935-864f-4bb6-9017-9866f49e6d35",
   "metadata": {},
   "outputs": [],
   "source": [
    "#cleaning columns\n",
    "test_req_df=test_req_df.rename(columns={'School':'school', \n",
    "                         'Test Optional?':'test_optional',\n",
    "                         'Applies to Class Year(s)': 'applies_class_year',\n",
    "                        'Policy Details':'policy_detail',\n",
    "                        'Number of Applicants':'no_applicants',\n",
    "                        'Accept Rate': 'accept_rate',\n",
    "                        'SAT Total 25th-75th Percentile': 'sat_25th_75th_percentile',\n",
    "                         'optional_2021': 'optional_in_2021'\n",
    "                           }\n",
    "                  )\n",
    "#re-ordering and dropping potentially non-used columns\n",
    "test_req_df=test_req_df[['school','test_optional','optional_in_2021','applies_class_year']]"
   ]
  },
  {
   "cell_type": "code",
   "execution_count": null,
   "id": "99701954-2371-48c2-aaba-f1f6a22c6bc8",
   "metadata": {},
   "outputs": [],
   "source": [
    "#checking\n",
    "test_req_df.head(2)"
   ]
  },
  {
   "cell_type": "markdown",
   "id": "9fd8a9c0-ecfd-4375-acdc-6e6ad02ba906",
   "metadata": {},
   "source": [
    "#### 4) Clean Absolute SAT Participation Rate Data"
   ]
  },
  {
   "cell_type": "code",
   "execution_count": null,
   "id": "c2c52634-225c-4e71-9f9d-12c48ed84836",
   "metadata": {},
   "outputs": [],
   "source": [
    "#Using absolute values to calculate national participation rate\n",
    "sat_par_abs = pd.read_csv('../data/participation rate by state - absolute.csv')\n",
    "\n",
    "#changing column names to match feature in data dictionary \n",
    "sat_par_abs['state_abbrev']=sat_par_abs['states'].map(us_abbrv)\n",
    "sat_par_abs.rename(columns={'states':'state_name', 'state_abbrev':'state'}, inplace=True)\n",
    "\n",
    "#Reordering columns\n",
    "sat_par_abs=sat_par_abs[['state_name','state','test_takers_2021','num_grads_2021','test_takers_2020','num_grads_2020','test_takers_2019','num_grads_2019']]"
   ]
  },
  {
   "cell_type": "code",
   "execution_count": null,
   "id": "6e1775ed-61de-4fca-9b5f-3fcf9cf67b81",
   "metadata": {},
   "outputs": [],
   "source": [
    "#checking\n",
    "sat_par_abs.head()"
   ]
  },
  {
   "cell_type": "markdown",
   "id": "1c706063-b75c-495a-ab0a-a13f0d859c96",
   "metadata": {},
   "source": [
    "---\n",
    "\n",
    "## Data Dictionary\n",
    "|Feature|Type|Dataset|Description|\n",
    "|---|---|---|---|\n",
    "|state_name|object|sad_df, total_cases|Name of the state in the US from which data was collected|\n",
    "|state|object|sad_df, total_cases|Abbreviation of USA State|\n",
    "|20xx_participation|float|sad_df|State's eligible population's participation in taking the SAT for indicated year |\n",
    "|20xx_ebrw|integer|sad_df|State's average grade on the Evidence-Based Reading and Writing section of the SAT for indicated year  (Between 200-800)|\n",
    "|20xx_math|integer|sad_df|State's average grade on the Math section of the SAT for indicated year  (Between 200-800)\n",
    "|20xx_total_score|integer|sad_df|State's average total grade on the SAT for the indicated year (Between 400-1600)|\n",
    "|submission_date|datetime|total_cases|Date of submission of COVID-19 cases|\n",
    "|20xx_tot_cases|integer|total_cases|Total number of COVID-19 cases for the indicated year|\n",
    "|school|object|test_req_df|Name of College/University|\n",
    "|test_optional|boolean|test_req_df|Admission requirement for SAT/ACT|\n",
    "|optional_in_2021|object|test_req_df|Shows if school allows SAT/ACT to be optional for admission to class of 2021|\n",
    "|applies_class_year|object|test_req_df|Year of admission in which SAT is optional|\n",
    "|test_takers_20xx|integer|sat_par_abs|Number of students taking SAT for the indicated year|\n",
    "|num_grads_20xx|integer|sat_par_abs|Number of graduating students taking SAT for the indicated year|\n"
   ]
  },
  {
   "cell_type": "markdown",
   "id": "52867a1c-d3d7-42cb-9039-607f6ab34605",
   "metadata": {},
   "source": [
    "---\n",
    "\n",
    "## Exploratory Data Analysis "
   ]
  },
  {
   "cell_type": "markdown",
   "id": "c1a467de-0457-496f-8f9b-c2fedf8b988d",
   "metadata": {},
   "source": [
    "### Summary Statistics"
   ]
  },
  {
   "cell_type": "code",
   "execution_count": null,
   "id": "37ac40b2-9808-4312-9d8c-b3af001d548c",
   "metadata": {},
   "outputs": [],
   "source": [
    "sat_df.describe().T"
   ]
  },
  {
   "cell_type": "markdown",
   "id": "ea14e32c-61ab-4457-9b31-712e1de0fba4",
   "metadata": {},
   "source": [
    "#### Manually calculate standard deviation\n",
    "\n",
    "$$\\sigma = \\sqrt{\\frac{1}{n}\\sum_{i=1}^n(x_i - \\mu)^2}$$\n",
    "\n",
    "- Write a function to calculate standard deviation using the formula above"
   ]
  },
  {
   "cell_type": "code",
   "execution_count": null,
   "id": "6b7b94ee-f64d-4c3e-8964-33309649e276",
   "metadata": {},
   "outputs": [],
   "source": [
    "def stdev(data):\n",
    "    mean = sum(data)/len(data)\n",
    "    deviations = [(x-mean)**2 for x in data]\n",
    "    variance = sum(deviations)/len(data)\n",
    "    return variance**0.5"
   ]
  },
  {
   "cell_type": "code",
   "execution_count": null,
   "id": "26d96f46-c839-40ed-9db2-07abb83f874b",
   "metadata": {},
   "outputs": [],
   "source": [
    "sd = {x: stdev(sat_df[x]) for x in sat_df.columns if sat_df[x].dtypes!=object}\n",
    "sd"
   ]
  },
  {
   "cell_type": "code",
   "execution_count": null,
   "id": "0eb04e78-97dc-4fa7-94b4-a2262f8ca557",
   "metadata": {},
   "outputs": [],
   "source": [
    "# Checking numpy's std method\n",
    "{x: np.std(sat_df[x]) for x in sat_df.columns if sat_df[x].dtypes!=object}"
   ]
  },
  {
   "cell_type": "markdown",
   "id": "7f765c9e-4cc7-4243-a82c-303d3b50f461",
   "metadata": {},
   "source": [
    "The manual calculation and numpy std method return the same values while pandas returns slightly different values for standard deviation. This is due to pandas using the unbiased estimator (`n-1` instead of `n` in the denominator), which is better for estimating standard deviation of a sample. "
   ]
  },
  {
   "cell_type": "markdown",
   "id": "05ccf9d2-cdc6-46d5-90a9-3e40181a3297",
   "metadata": {},
   "source": [
    "### Investigating Trends in the Data"
   ]
  },
  {
   "cell_type": "markdown",
   "id": "23207a93-d113-49fb-938d-3e71ec7aa369",
   "metadata": {},
   "source": [
    "#### Trends in States with Low and High Participation Rates from 2018 to 2019"
   ]
  },
  {
   "cell_type": "code",
   "execution_count": null,
   "id": "9080a68d-c1e5-4d13-9199-fd46aee04e9f",
   "metadata": {},
   "outputs": [],
   "source": [
    "# Writing function to give top 5 and bottom 5 (to sort values by a column, specified column must be placed index 2 position)\n",
    "def top_and_btm(col, df, num):\n",
    "    return df[col].sort_values(by=col[2], ascending=False).iloc[np.r_[0:num, -num:0]]"
   ]
  },
  {
   "cell_type": "code",
   "execution_count": null,
   "id": "e7ebe487-2ad3-4a94-ad07-66ebc8fb82cb",
   "metadata": {},
   "outputs": [],
   "source": [
    "# States with the highest and lowest average total scores for SATs in 2018, together with their participation rates\n",
    "top_and_btm(['state_name','state','2018_participation', '2018_total_score'],sat_df, 5)"
   ]
  },
  {
   "cell_type": "code",
   "execution_count": null,
   "id": "6668ce7c-37f9-4f38-b5e3-7df1ab48a996",
   "metadata": {},
   "outputs": [],
   "source": [
    "# States with the highest and lowest average total scores for SATs in 2019, together with their participation rates\n",
    "top_and_btm(['state_name','state', '2019_participation', '2019_total_score', ],sat_df, 5)"
   ]
  },
  {
   "cell_type": "code",
   "execution_count": null,
   "id": "5d9cf2cf-97e4-48e9-9d0f-98ef3c31dd3f",
   "metadata": {},
   "outputs": [],
   "source": [
    "# States with the highest and lowest average total scores for SATs in 2020, together with their participation rates\n",
    "top_and_btm(['state_name','state', '2020_participation','2020_total_score', ],sat_df, 5)"
   ]
  },
  {
   "cell_type": "code",
   "execution_count": null,
   "id": "8c36096f-0744-4d1b-a462-3472c262082e",
   "metadata": {},
   "outputs": [],
   "source": [
    "# States with the highest and lowest average total scores for SATs in 2021, together with their participation rates\n",
    "top_and_btm(['state_name','state', '2021_participation','2021_total_score', ],sat_df, 5)"
   ]
  },
  {
   "cell_type": "markdown",
   "id": "28e672fc-dac0-4bd5-9c48-a6ad701473c4",
   "metadata": {},
   "source": [
    "#### Observations\n",
    "\n",
    "South Dakota, North Dakota, Nebraska, Wyoming and Iowa have maintained the lowest 5 states of SAT participation rates from 2018-2020, but only South and North Dakota continued their placement in 2021.\n",
    "\n",
    "Interestingly, the top 5 states with highest participation rate from 2018 to 2020 are states with 100% of the high school students for the respective cohorts. Michigan, Connecticut and Rhode Island were the 3 states to feature in the top 5 for all 3 years. \n",
    "However, in 2021, there were no states with full participation rate, with none of the 3 states mentioned featuring in the top 5.\n"
   ]
  },
  {
   "cell_type": "markdown",
   "id": "70750187-0467-49c1-8265-e32c069d88c7",
   "metadata": {},
   "source": [
    "#### 2) Trends in COVID-19 Cases from 2020 to 2021"
   ]
  },
  {
   "cell_type": "code",
   "execution_count": null,
   "id": "9233777e-8742-4704-b72a-786a354b9d4f",
   "metadata": {},
   "outputs": [],
   "source": [
    "total_cases.head(2)"
   ]
  },
  {
   "cell_type": "code",
   "execution_count": null,
   "id": "06b2c956-0b3d-492f-9cc5-a1a27814d780",
   "metadata": {},
   "outputs": [],
   "source": [
    "# States with highest and lowest total number of cases in 2020\n",
    "top_and_btm(['state_name','state', '2020_tot_cases'],total_cases, 5)"
   ]
  },
  {
   "cell_type": "code",
   "execution_count": null,
   "id": "ce6feaa8-123d-4efd-95b9-eae5c8753fbb",
   "metadata": {},
   "outputs": [],
   "source": [
    "# States with highest and lowest total number of cases in 2021\n",
    "top_and_btm(['state_name','state', '2021_tot_cases'],total_cases, 5)"
   ]
  },
  {
   "cell_type": "code",
   "execution_count": null,
   "id": "720199d2-33e0-4b08-9eb4-44ccbf777bfb",
   "metadata": {},
   "outputs": [],
   "source": [
    "# States with highest and lowest increased rate of participation in 2021 (to compare with COVID-19 data later)\n",
    "\n",
    "##creating new column for difference in cases between 2021 and 2020\n",
    "participation_2020_2021 =sat_df[['state_name','state','2020_participation','2021_participation']]\n",
    "participation_2020_2021['difference_2020_2021']= participation_2020_2021['2020_participation'] - participation_2020_2021['2021_participation']\n",
    "\n",
    "top_and_btm(['state_name','state', 'difference_2020_2021'],participation_2020_2021, 5)"
   ]
  },
  {
   "cell_type": "markdown",
   "id": "b89a3254-3661-4453-8c3d-8008d72571b2",
   "metadata": {},
   "source": [
    "#### Observation\n",
    "California, Florida and Texas are observed to have maintained in the top 3 states with highest report COVID-19 cases in both 2020 and 2021.\n",
    "Meanwhile, Vermont and District of Columbia are the only 2 states that have been ranked in the lowest number of COVID-19 cases. \n",
    "\n",
    "As for the states with the most consistently high SAT participation in 2021, Wyoming, Kentucky, Iowa and Nebraska saw little to no difference in their participation rates in 2021, despite COVID-19 cases and the snowball effects (to be discussed more later).\n",
    "Maine and West Virginia both saw a 50% difference in participation rates, with Massachusetts, Colorado and California following suite."
   ]
  },
  {
   "cell_type": "markdown",
   "id": "450584b7-fc89-487d-8756-4f1644112997",
   "metadata": {},
   "source": [
    "---\n",
    "\n",
    "## Data Visualization"
   ]
  },
  {
   "cell_type": "markdown",
   "id": "53084768-0bfa-4182-a13f-9180c762f993",
   "metadata": {},
   "source": [
    "### Trends Seen in SAT Participation and Average State Score from 2018 to 2021"
   ]
  },
  {
   "cell_type": "code",
   "execution_count": null,
   "id": "69405c7a-2c5a-4bde-be9b-7f2b87368901",
   "metadata": {},
   "outputs": [],
   "source": [
    "sns.set_theme()\n",
    "\n",
    "plt.figure(figsize=(14,10))\n",
    "corr = sat_df.corr()\n",
    "mask = np.zeros_like(corr, dtype=np.bool)\n",
    "mask[np.triu_indices_from(mask)] = True\n",
    "ax = plt.axes()\n",
    "sns.heatmap(sat_df.corr(), annot=True, mask=mask, cmap='coolwarm')\n",
    "ax.set_title('Correlations of 2018 to 2021 SAT Participation Rates and Scores')"
   ]
  },
  {
   "cell_type": "markdown",
   "id": "5712b696-996f-4dcf-a4bf-f6ef63d6763b",
   "metadata": {},
   "source": [
    "The heatmap shows that the SAT participation rates are inversely related to their average total scores (highlighted by the strong negative correlation). Conversely, there are strong positive correlations for the subject scores between years, which suggest that there were no major fluctuations to the individual subject averages across the years."
   ]
  },
  {
   "cell_type": "code",
   "execution_count": null,
   "id": "16b62e67-b60f-483f-87af-61c14dd8de40",
   "metadata": {},
   "outputs": [],
   "source": [
    "def subplot_histogram(df, list_of_x, list_of_xlabels, list_of_ylabels, c):\n",
    "    nrows = int(np.ceil(len(list_of_x)/2))\n",
    "    fig, ax = plt.subplots(nrows=nrows, ncols=2, figsize = (16,9))  \n",
    "    ax = ax.ravel() \n",
    "    for i, x in enumerate(list_of_x): \n",
    "        ax[i].hist(df[x], color=c)\n",
    "        ax[i].set_title(f'Histogram of {x.replace(\"_\", \" \").title()} \\n Mean = {round(df[list_of_x[i]].mean(), 2)}', fontsize=16)\n",
    "        ax[i].set_xlabel(list_of_xlabels[i], fontsize=14)\n",
    "        ax[i].set_ylabel(list_of_ylabels[i], fontsize=14)\n",
    "        ax[i].axvline(df[x].mean(), c='r', ls='dotted')\n",
    "        ax[i].grid(False)\n",
    "        fig.tight_layout()"
   ]
  },
  {
   "cell_type": "code",
   "execution_count": null,
   "id": "5cf8986d-8211-4c2c-b06b-82cf44f041ee",
   "metadata": {},
   "outputs": [],
   "source": [
    "x_columns = ['2018_participation', '2019_participation', '2020_participation', '2021_participation']\n",
    "xlabels = ['Participation Rate','Participation Rate','Participation Rate','Participation Rate']\n",
    "ylabels = ['No. of States', 'No. of States', 'No. of States', 'No. of States']\n",
    "subplot_histogram(df=sat_df, list_of_x=x_columns, list_of_xlabels=xlabels, list_of_ylabels=ylabels, c='palegreen')"
   ]
  },
  {
   "cell_type": "code",
   "execution_count": null,
   "id": "5cff6d08-842e-4ab0-b3d3-32efb7045116",
   "metadata": {},
   "outputs": [],
   "source": [
    "columns = ['2018_total_score', '2019_total_score', '2020_total_score', '2021_total_score']\n",
    "xlabels = ['Score', 'Score', 'Score', 'Score']\n",
    "ylabels = ['No. of States', 'No. of States', 'No. of States', 'No. of States']\n",
    "subplot_histogram(sat_df, columns, xlabels, ylabels,'lightblue')"
   ]
  },
  {
   "cell_type": "markdown",
   "id": "97202a15-0707-4bf3-b233-5a8d901e3799",
   "metadata": {},
   "source": [
    "#### Histogram Observations\n",
    "\n",
    "From the participation rates observation, the mean participation rates for SAT across the years increased from 0.46 to 0.49, but a sharp drop to 0.31 in 2021. This suggests that high school students across the states do see the importance of participating in the SATs for college admission but an occurrence resulted in a drastic drop in that notion in 2021.The distributions for the participation models are approximately bimodal, which indicates that the states usually have either a high or low participation rate. \n",
    "\n",
    "As for the average total scores, most states fall between the 1000-1100 scores and 1200-1300 score range, which also shows bimodal tendencies. As such, two peaks are seen forming.\n",
    "\n",
    "However, 2021 shows a different pattern of observation from the previous 3 years as the participation rate is largely seen in the lower range and more states fall in between the two peaks of score ranges.\n"
   ]
  },
  {
   "cell_type": "code",
   "execution_count": null,
   "id": "d9e48104-a85e-437e-bb44-14f8eddf6384",
   "metadata": {},
   "outputs": [],
   "source": [
    "df = pd.DataFrame(data=sat_df, columns=['2018_participation', \n",
    "                                        '2019_participation', \n",
    "                                        '2020_participation', \n",
    "                                        '2021_participation']\n",
    "                 )\n",
    "boxplot = sns.boxplot(x = \"value\", y=\"variable\",orient = \"h\", data=pd.melt(df),\n",
    "                      showmeans=True, meanprops={\"marker\": \"+\",\n",
    "                                                 \"markeredgecolor\": \"black\",\n",
    "                                                 \"markersize\": \"10\"}\n",
    "                     )\n",
    "boxplot.axes.set_title(\"Distribution SAT Participation Rate 2018-2021 \", fontsize=16)\n",
    "boxplot.set_xlabel(\"Participation Rate\", fontsize=14)\n",
    "boxplot.set_ylabel(\"\", fontsize=14)\n",
    "boxplot.axes.set_yticks(ticks=[0,1,2,3],labels=['2018', '2019','2020','2021'] , minor=False)\n",
    "sns.set(rc={'figure.figsize':(16,9)}, font_scale=1.5, style='whitegrid')\n",
    "plt.show()"
   ]
  },
  {
   "cell_type": "code",
   "execution_count": null,
   "id": "89d5676e-181a-4772-8332-dac4a39bce10",
   "metadata": {},
   "outputs": [],
   "source": [
    "df = pd.DataFrame(data=sat_df, columns=['2018_total_score', \n",
    "                                        '2019_total_score', \n",
    "                                        '2020_total_score', \n",
    "                                        '2021_total_score'])\n",
    "boxplot = sns.boxplot(x = \"value\", y=\"variable\",orient = \"h\", data=pd.melt(df),\n",
    "                      showmeans=True, meanprops={\"marker\": \"+\",\n",
    "                                                 \"markeredgecolor\": \"black\",\n",
    "                                                 \"markersize\": \"10\"}\n",
    "                     )\n",
    "boxplot.axes.set_title(\"Distribution SAT Total Scores 2018-2021 \", fontsize=16)\n",
    "boxplot.set_xlabel(\"Total Scores\", fontsize=14)\n",
    "boxplot.set_ylabel(\"\", fontsize=14)\n",
    "boxplot.axes.set_yticks(ticks=[0,1,2,3],labels=['2018', '2019','2020','2021'] , minor=False)\n",
    "sns.set(rc={'figure.figsize':(16,9)}, font_scale=1.5, style='whitegrid')\n",
    "plt.show()"
   ]
  },
  {
   "cell_type": "markdown",
   "id": "322f6560-d0c3-4c53-83cd-bf0033c331e3",
   "metadata": {},
   "source": [
    "#### Boxplot Observations\n",
    "\n",
    "SAT participation rates are seen to have increased from 2018 and 2020, but faced a significant drop in 2021.\n",
    "As for the total scores, 2021 faced an overall better state performance from the cohort in terms of mean and 25th-75th percentile. Lowest score was also higher than previous years. However, the highest overall total score recorded for a state was lower than in 2019 and 2018. "
   ]
  },
  {
   "cell_type": "code",
   "execution_count": null,
   "id": "c2a949ab-1719-4f8f-8140-98817800dd79",
   "metadata": {},
   "outputs": [],
   "source": [
    "def subplot_scatterplot(df, list_of_x, list_of_y, list_of_xlabels, list_of_ylabels):\n",
    "    nrows = int(np.ceil(len(list_of_x)/2))\n",
    "    fig, ax = plt.subplots(nrows=nrows, ncols=2, figsize = (16,9))  \n",
    "    ax = ax.ravel() \n",
    "    for i, x, y in zip(range(len(list_of_x)),list_of_x,list_of_y): \n",
    "        ax[i].scatter(df[x], df[y])\n",
    "        ax[i].set_title(f'{list_of_xlabels[i]} vs {list_of_ylabels[i]}', fontsize=14)\n",
    "        ax[i].set_xlabel(list_of_xlabels[i], fontsize=13)\n",
    "        ax[i].set_ylabel(list_of_ylabels[i], fontsize=13)\n",
    "        ax[i].grid(False)\n",
    "        fig.tight_layout()"
   ]
  },
  {
   "cell_type": "code",
   "execution_count": null,
   "id": "b100cb34-6373-4dcb-afe9-5b55d22e45d1",
   "metadata": {},
   "outputs": [],
   "source": [
    "list_of_x_values =['2018_participation', '2019_participation', '2020_participation', '2021_participation']\n",
    "list_of_y_values =['2018_total_score', '2019_total_score', '2020_total_score', '2021_total_score']\n",
    "xlabels = [\"SAT 2018 Participation Rate\", \"SAT 2019 Participation Rate\", \"SAT 2020 Participation Rate\",\"SAT 2021 Participation Rate\"]\n",
    "ylabels = [\"SAT 2018 Scores\",\"SAT 2019 Scores\",\"SAT 2020 Scores\",\"SAT 2021 Scores\"]\n",
    "\n",
    "subplot_scatterplot(df=sat_df, \n",
    "                    list_of_x=list_of_x_values , \n",
    "                    list_of_y=list_of_y_values, \n",
    "                    list_of_xlabels=xlabels, \n",
    "                    list_of_ylabels=ylabels\n",
    "                   )"
   ]
  },
  {
   "cell_type": "markdown",
   "id": "48d225c8-0919-46ae-bb8c-57e8abc4f6a9",
   "metadata": {},
   "source": [
    "#### Scatterplot Observations\n",
    "\n",
    "The scatterplots reinforces the observations seen in the heatmap with SAT participation rates having a strong negative correlation to the average total scores (as participation rate increases, the average state SAT score decreases."
   ]
  },
  {
   "cell_type": "markdown",
   "id": "836afe41-2397-4634-b5d2-3385cc1b8ab5",
   "metadata": {},
   "source": [
    "### Trends seen in COVID-19 on SAT Participation Rates"
   ]
  },
  {
   "cell_type": "code",
   "execution_count": null,
   "id": "6b50a272-3062-4d60-b319-e88e5b0eca53",
   "metadata": {},
   "outputs": [],
   "source": [
    "#Making 2020 and 2021 dataframe that shows participation and covid cases in each state\n",
    "sat_2020_2021 = sat_df[['state', '2020_participation', '2021_participation']]\n",
    "covid_sat_participation = pd.merge(total_cases, sat_2020_2021, on=\"state\")"
   ]
  },
  {
   "cell_type": "code",
   "execution_count": null,
   "id": "11c0080c-cee9-46a4-b079-79d47fe96612",
   "metadata": {},
   "outputs": [],
   "source": [
    "covid_sat_participation.corr()"
   ]
  },
  {
   "cell_type": "markdown",
   "id": "60443f02-ff04-46be-a98d-b40963273498",
   "metadata": {},
   "source": [
    "From the correlation coefficients, we cannot assume a correlation of COVID-19 cases on SAT participation rates in the respective years. The dataset used here is based on state-level analysis. If we were to run through a linear regression analysis, it would mean we are trying to find if a state's COVID-19 total number of cases would affect another state's SAT participation, which logically does not make sense.\n",
    "\n",
    "Therefore, we must use a national-level data to eliminate this problem. \n",
    "We will be using the sat_par_abs as the dataframe shows the participation of SATs in absolute numbers, rather than in percentage. Following which, the data will be filtered and made into a new dataframe to show national-level numbers."
   ]
  },
  {
   "cell_type": "code",
   "execution_count": null,
   "id": "992fdea1-89d4-48dc-b9d6-48d0802d8d65",
   "metadata": {},
   "outputs": [],
   "source": [
    "# last row of dataset indicates the sum of students in for each column. This is to find the national total of students with respect to the column\n",
    "total_dict = sat_par_abs.iloc[len(sat_par_abs)-1].to_dict()\n",
    "total_dict={key: total_dict[key] for key in total_dict if key not in ['state_name', 'state']}\n",
    "\n",
    "#finding participation rate of each year on a national level\n",
    "participation_rate = []\n",
    "year = ['2019','2020', '2021']\n",
    "for y in year:\n",
    "    participation_rate.append((round(total_dict[f'test_takers_{y}'] / total_dict[f'num_grads_{y}'],3)))\n",
    "    \n",
    "print(participation_rate)"
   ]
  },
  {
   "cell_type": "code",
   "execution_count": null,
   "id": "32fc0055-1c0d-4007-8f31-263ba5f25704",
   "metadata": {},
   "outputs": [],
   "source": [
    "total_cases.head(2)"
   ]
  },
  {
   "cell_type": "code",
   "execution_count": null,
   "id": "dd255163-ce97-4bbc-b0e3-33e934bf8881",
   "metadata": {},
   "outputs": [],
   "source": [
    "#find total number of COVID-19 cases in each year. \n",
    "#Since 2020 is the start of the pandemic, 2019 will be represented with a 0.\n",
    "print(total_cases['2020_tot_cases'].sum())\n",
    "print(total_cases['2021_tot_cases'].sum())"
   ]
  },
  {
   "cell_type": "code",
   "execution_count": null,
   "id": "046ab6e6-73ca-4b4e-961c-346cf894e6ec",
   "metadata": {},
   "outputs": [],
   "source": [
    "tot_cases = [0,19605785,33439052]"
   ]
  },
  {
   "cell_type": "code",
   "execution_count": null,
   "id": "899c836c-524d-4f36-bfab-97940ff465b9",
   "metadata": {
    "tags": []
   },
   "outputs": [],
   "source": [
    "#Making a separate dataframe based on total number of cases at end of each year\n",
    "details= {\n",
    "    'year' : year,\n",
    "    'tot_cases' : tot_cases,\n",
    "    'participation_rate' : participation_rate\n",
    "}\n",
    "print(details)\n",
    "# sum_covid_cases_df = pd.DataFrame(details)\n"
   ]
  },
  {
   "cell_type": "code",
   "execution_count": null,
   "id": "a904e3bb-4d70-4a69-9440-4963fb11334a",
   "metadata": {},
   "outputs": [],
   "source": [
    "sum_covid_cases_df.head()"
   ]
  },
  {
   "cell_type": "code",
   "execution_count": null,
   "id": "d7240497-620e-4ebc-afbb-e9dc28fe0aa5",
   "metadata": {},
   "outputs": [],
   "source": [
    "#Calculating linear regression and drawing best fit line\n",
    "X = sum_covid_cases_df[[\"tot_cases\"]]\n",
    "y = sum_covid_cases_df[\"participation_rate\"]\n",
    "\n",
    "lr = LinearRegression()\n",
    "lr.fit(X, y)\n",
    "y_pred = lr.predict(X)"
   ]
  },
  {
   "cell_type": "code",
   "execution_count": null,
   "id": "eb897a4e-06a0-40a8-8c5d-dfa0cc4d77ca",
   "metadata": {},
   "outputs": [],
   "source": [
    "sns.lmplot(data=sum_covid_cases_df, x=\"tot_cases\", y=\"participation_rate\", hue=\"year\",fit_reg = True, height=5, aspect=1.5)\n",
    "ax = plt.gca()\n",
    "ax.set_title('Correlation between COVID-19 Cases on SAT Participation Rate', fontsize=18)\n",
    "ax.set_xlabel('Total Number of COVID-19 Cases', fontsize=15)\n",
    "ax.set_ylabel('SAT Participation Rate', fontsize=15)\n",
    "plt.plot(sum_covid_cases_df[\"tot_cases\"], y_pred, color='orange')\n",
    "plt.show()"
   ]
  },
  {
   "cell_type": "markdown",
   "id": "f1880d09-8be7-4196-93b5-e5148b56d937",
   "metadata": {},
   "source": [
    "#### Correlation Observation\n",
    "\n",
    "At first glance"
   ]
  },
  {
   "cell_type": "code",
   "execution_count": null,
   "id": "7eddbb78-8d7d-407d-9ece-b7714601222d",
   "metadata": {
    "scrolled": true,
    "tags": []
   },
   "outputs": [],
   "source": [
    "fig = px.choropleth(total_cases,\n",
    "                    locations='state',\n",
    "                    locationmode = 'USA-states', \n",
    "                    scope='usa',\n",
    "                    color = '2020_tot_cases',\n",
    "                    color_continuous_scale = 'reds',\n",
    "                   )\n",
    "fig.update_layout(\n",
    "      title_text = 'Total Covid-19 Cases in 2020',\n",
    "      title_font_family=\"Arial\",\n",
    "      title_font_size = 22,\n",
    "      title_font_color=\"black\", \n",
    "      title_x=0.45, \n",
    "         )\n",
    "fig.show()"
   ]
  },
  {
   "cell_type": "code",
   "execution_count": null,
   "id": "0c9bd452-5a2f-4fd4-8629-0fcff76fbf22",
   "metadata": {},
   "outputs": [],
   "source": [
    "fig = px.choropleth(total_cases,\n",
    "                    locations='state',\n",
    "                    locationmode = 'USA-states', \n",
    "                    scope='usa',\n",
    "                    color = '2021_tot_cases',\n",
    "                    color_continuous_scale = 'reds',\n",
    "                   )\n",
    "fig.update_layout(\n",
    "      title_text = 'Total Covid-19 Cases in 2021',\n",
    "      title_font_family=\"Arial\",\n",
    "      title_font_size = 22,\n",
    "      title_font_color=\"black\", \n",
    "      title_x=0.45, \n",
    "         )\n",
    "fig.show()"
   ]
  },
  {
   "cell_type": "markdown",
   "id": "6c98e4c9-864d-4e86-8f7f-baf110b09980",
   "metadata": {},
   "source": [
    "From the maps, we can see 3 states have the most number of total COVID-19 cases in both 2020 and 2021 which are California(CA), Texas(TX), Florida(FL)."
   ]
  },
  {
   "cell_type": "code",
   "execution_count": null,
   "id": "1760ff8c-ab53-46e3-bbe0-8eb6b76eec53",
   "metadata": {},
   "outputs": [],
   "source": [
    "focused_list= ['CA','TX','FL']\n",
    "focused_covid_states=sat_df.loc[sat_df['state'].isin(focused_list)]\n",
    "\n",
    "focused_covid_states=focused_covid_states.drop(labels=['2018_ebrw','2018_math','2018_total_score','2019_ebrw','2019_math','2019_total_score',\n",
    "                                                        '2020_ebrw','2020_math','2020_total_score','2021_ebrw','2021_math','2021_total_score'],\n",
    "                                               axis=1)\n",
    "\n",
    "focused_covid_states=pd.melt(focused_covid_states, id_vars=['state_name', 'state'])"
   ]
  },
  {
   "cell_type": "code",
   "execution_count": null,
   "id": "3d0c3ab3-f2c6-437b-b1f6-a90d30585d5e",
   "metadata": {},
   "outputs": [],
   "source": [
    "lineplot = sns.lineplot(x = \"variable\", y = \"value\", hue='state_name',data = focused_covid_states, lw=2)\n",
    "\n",
    "lineplot.axes.set_title(\"Participation Rates of States with Highest COVID-19 Cases in 2020 and 2021 from 2018 to 2021 \", fontsize=18)\n",
    "lineplot.set_xlabel(\"Year\", fontsize=16)\n",
    "lineplot.set_ylabel(\"Participation Rate\", fontsize=16)\n",
    "lineplot.axes.set_xticks(ticks=[0,1,2,3],labels=['2018', '2019','2020','2021'] , minor=False)\n",
    "sns.set(rc={'figure.figsize':(16,9)}, font_scale=1.5, style='whitegrid')\n",
    "plt.legend(title='States')\n",
    "plt.show()"
   ]
  },
  {
   "cell_type": "markdown",
   "id": "e49a634f-5759-42de-9301-6ecc29e85e44",
   "metadata": {},
   "source": [
    "---\n",
    "\n",
    "## Other Factor(s) That Could Affect Participation Rate"
   ]
  },
  {
   "cell_type": "markdown",
   "id": "6df6bf0a-9813-4a8b-bc68-57b671e23cda",
   "metadata": {},
   "source": [
    "Based on the ACT/SAT college requirements data, there has been an increase in universities opting to drop SAT/ACT requirement in 2021. The dataset has been cleaned to show schools that have made standardised test as optional in 2021 ('yes'), schools that have already implemented the policy and made permanent ('permanent') and schools that have made the test compulsory ('nil') under 'optional_in_2021' column."
   ]
  },
  {
   "cell_type": "code",
   "execution_count": null,
   "id": "89db1479-3b00-4d87-8b4f-0e2338bf83ee",
   "metadata": {},
   "outputs": [],
   "source": [
    "test_req_dict = test_req_df['optional_in_2021'].value_counts().to_dict()"
   ]
  },
  {
   "cell_type": "code",
   "execution_count": null,
   "id": "270e964b-b454-46d9-a331-841c5859ef75",
   "metadata": {},
   "outputs": [],
   "source": [
    "test_req_dict"
   ]
  },
  {
   "cell_type": "markdown",
   "id": "f2928852-89e1-4d45-9e3c-ea8a651cc1d0",
   "metadata": {},
   "source": [
    "158 schools made ACT/SAT requirements optional prior to the 2021 cohort. 232 new schools emerged to allow a similar arrangement (be it temporarily only for 2021 or for a specified batch year). "
   ]
  },
  {
   "cell_type": "markdown",
   "id": "42f3ae46-e976-4a33-8d31-446d6a90f6b2",
   "metadata": {},
   "source": [
    "From the results, there is an increase of 232 schools from 158 (that have already made the SAT/ACT test optional in their admission policy), bringing the total to 390 schools and making about 93% of the universities not requiring SAT/ACT results."
   ]
  },
  {
   "cell_type": "markdown",
   "id": "bcc938d5-792a-41d5-aae3-83650d779e52",
   "metadata": {},
   "source": [
    "---\n",
    "\n",
    "## Conclusion and Recommendations"
   ]
  },
  {
   "cell_type": "markdown",
   "id": "ca74fa0f-7c40-49b0-bfc3-bffacb8e0aca",
   "metadata": {},
   "source": [
    "Although there is a correlation between number of COVID-19 cases and SAT Participation, with the decreased numbers seen with high COVID-19 cases, it could still not explain the drastic decrease in numbers from 2020 to 2021. Especially when studying the top 3 states that had the highest overall COVID-19 cases recorded from 2020 to 2021, it can be concluded that there may be another underlying reason.\n",
    "\n",
    "From the data retrieved from universities requirement in SAT/ACT in their admission policies, about [93%](#Other-Factor(s)-That-Could-Affect-Participation-Rate) of the universities have made the test optional in their admission requirement. This could have contributed to the sharp decline in SAT participation in 2021, even though there was an uptick in the numbers from 2018 to 2019. Therefore, COVID-19 could be the catalyst in the decrease in participation during the peri-Covid-19 period. Furthermore, there was a higher number of COVID-19 cases recorded in 2021 which could compel students to forgo partaking in SAT/ACT test for the college/university admission, especially since most schools have made it optional as well.\n",
    "\n",
    "Additional research shows that COVID-19 has a bigger effect on those [aged 30 and above](https://www.cdc.gov/coronavirus/2019-ncov/covid-data/investigations-discovery/hospitalization-death-by-age.html). The COVID numbers that we have may be skewed towards the higher age group resulting in no clear relationships observed.\n",
    "\n",
    "Thus, we recommend future research should take into consideration the influence of other these other factors. Furthermore, this project is limited by the sample size, with only 3 years of study since COVID-19 is a relatively new phenomenon. Further research should be done in the following years in which COVID-19 is still prevalent."
   ]
  },
  {
   "cell_type": "code",
   "execution_count": null,
   "id": "27080c63-f1b8-4252-89cd-f4bd810229d0",
   "metadata": {},
   "outputs": [],
   "source": []
  }
 ],
 "metadata": {
  "kernelspec": {
   "display_name": "Python 3 (ipykernel)",
   "language": "python",
   "name": "python3"
  },
  "language_info": {
   "codemirror_mode": {
    "name": "ipython",
    "version": 3
   },
   "file_extension": ".py",
   "mimetype": "text/x-python",
   "name": "python",
   "nbconvert_exporter": "python",
   "pygments_lexer": "ipython3",
   "version": "3.8.13"
  }
 },
 "nbformat": 4,
 "nbformat_minor": 5
}
